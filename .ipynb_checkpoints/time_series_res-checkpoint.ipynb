version https://git-lfs.github.com/spec/v1
oid sha256:0a79880cc196b023166d4d06bd9530e27e9f92c4675ab63962370d8f8d29cad1
size 1769476
