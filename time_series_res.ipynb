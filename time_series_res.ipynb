version https://git-lfs.github.com/spec/v1
oid sha256:ce33d1d418598a1a343dfa8fea0d51528921c305044794f685e3123a02877e40
size 1769923
